{
  "nbformat": 4,
  "nbformat_minor": 0,
  "metadata": {
    "colab": {
      "provenance": []
    },
    "kernelspec": {
      "name": "python3",
      "display_name": "Python 3"
    },
    "language_info": {
      "name": "python"
    }
  },
  "cells": [
    {
      "cell_type": "code",
      "execution_count": 67,
      "metadata": {
        "colab": {
          "base_uri": "https://localhost:8080/"
        },
        "id": "nOKxf2sjs_v5",
        "outputId": "d9a3f8c6-aa3c-46ed-d384-cecfcd83717d"
      },
      "outputs": [
        {
          "output_type": "stream",
          "name": "stdout",
          "text": [
            "Requirement already satisfied: pyspark in /usr/local/lib/python3.10/dist-packages (3.5.1)\n",
            "Requirement already satisfied: py4j==0.10.9.7 in /usr/local/lib/python3.10/dist-packages (from pyspark) (0.10.9.7)\n"
          ]
        }
      ],
      "source": [
        "pip install pyspark"
      ]
    },
    {
      "cell_type": "code",
      "source": [
        "from pyspark.sql import SparkSession\n",
        "\n",
        "spark = SparkSession.builder \\\n",
        "    .appName(\"Conservação do acervo\") \\\n",
        "    .getOrCreate()\n"
      ],
      "metadata": {
        "id": "L8ELE5WgtBhA"
      },
      "execution_count": 68,
      "outputs": []
    },
    {
      "cell_type": "code",
      "source": [
        "df = spark.read.csv(\"/content/Dados abertos 2022_CPP_COP_Conservação preventiva do acervo.csv\", header=True, inferSchema=True, sep=';', encoding='latin1')"
      ],
      "metadata": {
        "id": "oEp0HQOPtHxc"
      },
      "execution_count": 69,
      "outputs": []
    },
    {
      "cell_type": "code",
      "source": [
        "# Mostrando as primeiras linhas do DataFrame\n",
        "df.show()\n",
        "\n",
        "# Imprimindo o esquema do DataFrame para ver as colunas e tipos de dados\n",
        "df.printSchema()\n",
        "\n",
        "# Contando o número de linhas\n",
        "print(f\"Número de linhas: {df.count()}\")"
      ],
      "metadata": {
        "colab": {
          "base_uri": "https://localhost:8080/"
        },
        "id": "hzYvU6TbtVmZ",
        "outputId": "3d750168-4924-43e4-da7f-bee67b7415f0"
      },
      "execution_count": 70,
      "outputs": [
        {
          "output_type": "stream",
          "name": "stdout",
          "text": [
            "+--------------------+-----------+-----------------------+\n",
            "|         Localização|      Setor|Mês e ano procedimento |\n",
            "+--------------------+-----------+-----------------------+\n",
            "|Livros Raros  CII...|Obras Raras|                03 2022|\n",
            "|Livros Raros  CII...|Obras Raras|                03 2022|\n",
            "|Livros Raros  CII...|Obras Raras|                03 2022|\n",
            "|Livros Raros  CII...|Obras Raras|                03 2022|\n",
            "|Livros Raros  CII...|Obras Raras|                03 2022|\n",
            "|Livros Raros Z002...|Obras Raras|                03 2022|\n",
            "|Livros Raros Z002...|Obras Raras|                03 2022|\n",
            "|        Z001,002,004|Obras Raras|                03 2022|\n",
            "|        Z001,003,010|Obras Raras|                03 2022|\n",
            "|        Z001,003,016|Obras Raras|                03 2022|\n",
            "|     Z001,003BIS,002|Obras Raras|                03 2022|\n",
            "|Livros Raros  Z00...|Obras Raras|                03 2022|\n",
            "|        Z001,002,013|Obras Raras|                04 2022|\n",
            "|        Z001,001,012|Obras Raras|                04 2022|\n",
            "|        Z002,001,005|Obras Raras|                04 2022|\n",
            "|        Z002,001,014|Obras Raras|                04 2022|\n",
            "|       Z002,002,015F|Obras Raras|                04 2022|\n",
            "|        Z002,002,008|Obras Raras|                 abr/22|\n",
            "|        Z002,002,005|Obras Raras|                04 2022|\n",
            "|        Z001,002,007|Obras Raras|                04 2022|\n",
            "+--------------------+-----------+-----------------------+\n",
            "only showing top 20 rows\n",
            "\n",
            "root\n",
            " |-- Localização: string (nullable = true)\n",
            " |-- Setor: string (nullable = true)\n",
            " |-- Mês e ano procedimento : string (nullable = true)\n",
            "\n",
            "Número de linhas: 146\n"
          ]
        }
      ]
    },
    {
      "cell_type": "code",
      "source": [
        "# Removendo linhas com valores nulos\n",
        "df = df.na.drop()\n",
        "\n",
        "# Removendo linhas duplicadas\n",
        "df = df.dropDuplicates()"
      ],
      "metadata": {
        "id": "TnecG16ltWhd"
      },
      "execution_count": 71,
      "outputs": []
    },
    {
      "cell_type": "code",
      "source": [
        "from pyspark.sql.functions import udf, col\n",
        "from pyspark.sql.types import StringType\n",
        "import calendar\n",
        "import re\n",
        "\n",
        "# Atualizando a função UDF para padronizar as datas\n",
        "def padronizar_data(data_str):\n",
        "    # Tentativa de padronizar a partir do formato 'MM YYYY'\n",
        "    match = re.match(r'(\\d{2})\\s(\\d{4})', data_str)\n",
        "    if match:\n",
        "        return '-'.join(match.groups())\n",
        "\n",
        "    # Tentativa de padronizar a partir do formato 'mmm/yy' ou 'mmm/yyyy'\n",
        "    match = re.match(r'([a-zA-Z]+)\\/(\\d{2,4})', data_str)\n",
        "    if match:\n",
        "        mes_str, ano = match.groups()\n",
        "        # Convertendo o nome do mês para número\n",
        "        try:\n",
        "            mes = list(calendar.month_abbr).index(mes_str.capitalize())\n",
        "        except ValueError:\n",
        "            mes = 0  # Mes desconhecido\n",
        "        # Ajustando o ano para quatro dígitos, se necessário\n",
        "        ano = '20' + ano if len(ano) == 2 else ano\n",
        "        return f'{mes:02d}-{ano}'\n",
        "\n",
        "    # Se nenhum formato conhecido foi encontrado, retorna a string original\n",
        "    return data_str\n",
        "\n",
        "# Criando UDF com a função de padronização de datas\n",
        "padronizar_data_udf = udf(padronizar_data, StringType())\n",
        "\n",
        "# Nome da coluna corrigido\n",
        "nome_coluna_data = \"Mês e ano procedimento \"\n",
        "\n",
        "# Aplicando a UDF à coluna de data\n",
        "df = df.withColumn(nome_coluna_data, padronizar_data_udf(col(nome_coluna_data)))\n",
        "\n",
        "# Mostrando os resultados para verificar a conversão\n",
        "df.select(nome_coluna_data).show()"
      ],
      "metadata": {
        "colab": {
          "base_uri": "https://localhost:8080/"
        },
        "id": "BWXKFks-0gIF",
        "outputId": "b0216885-f7bf-46e3-9f97-fc5162094c3e"
      },
      "execution_count": 72,
      "outputs": [
        {
          "output_type": "stream",
          "name": "stdout",
          "text": [
            "+-----------------------+\n",
            "|Mês e ano procedimento |\n",
            "+-----------------------+\n",
            "|                10-2022|\n",
            "|                04-2022|\n",
            "|                10-2022|\n",
            "|                11-2022|\n",
            "|                06-2022|\n",
            "|                07-2022|\n",
            "|                03-2022|\n",
            "|                09-2022|\n",
            "|                04-2022|\n",
            "|                07-2022|\n",
            "|                07-2022|\n",
            "|                06-2022|\n",
            "|                10-2022|\n",
            "|                12-2022|\n",
            "|                06-2022|\n",
            "|                07-2022|\n",
            "|                10-2022|\n",
            "|                07-2022|\n",
            "|                11-2022|\n",
            "|                11-2022|\n",
            "+-----------------------+\n",
            "only showing top 20 rows\n",
            "\n"
          ]
        }
      ]
    },
    {
      "cell_type": "code",
      "source": [
        "df.show()"
      ],
      "metadata": {
        "colab": {
          "base_uri": "https://localhost:8080/"
        },
        "id": "FdifZMCF0GBz",
        "outputId": "111e518a-a858-40b9-a4dc-17bc763d44f9"
      },
      "execution_count": 73,
      "outputs": [
        {
          "output_type": "stream",
          "name": "stdout",
          "text": [
            "+------------------+-----------+-----------------------+\n",
            "|       Localização|      Setor|Mês e ano procedimento |\n",
            "+------------------+-----------+-----------------------+\n",
            "|      Z002,001,002|Obras Raras|                10-2022|\n",
            "|      Z002,001,005|Obras Raras|                04-2022|\n",
            "|      Z001,004,002|Obras Raras|                10-2022|\n",
            "|      Z001,001,009|Obras Raras|                11-2022|\n",
            "|   Z002,002BIS,003|Obras Raras|                06-2022|\n",
            "|      Z001,003,017|Obras Raras|                07-2022|\n",
            "|   Z001,003BIS,002|Obras Raras|                03-2022|\n",
            "|      Z001,003,019|Obras Raras|                09-2022|\n",
            "|      Z002,002,012|Obras Raras|                04-2022|\n",
            "|      Z002,001,019|Obras Raras|                07-2022|\n",
            "|      Z002,002,018|Obras Raras|                07-2022|\n",
            "|      Z002,003,008|Obras Raras|                06-2022|\n",
            "|Z002,004,004 n.002|Obras Raras|                10-2022|\n",
            "|      Z001,003,001|Obras Raras|                12-2022|\n",
            "|      Z002,004,019|Obras Raras|                06-2022|\n",
            "|   Z002,003BIS,002|Obras Raras|                07-2022|\n",
            "|      Z002,001,017|Obras Raras|                10-2022|\n",
            "|      Z002,003,002|Obras Raras|                07-2022|\n",
            "|      Z001,001,017|Obras Raras|                11-2022|\n",
            "|Z002,004,014 n.001|Obras Raras|                11-2022|\n",
            "+------------------+-----------+-----------------------+\n",
            "only showing top 20 rows\n",
            "\n"
          ]
        }
      ]
    },
    {
      "cell_type": "code",
      "source": [
        "df_agrupado = df.groupBy('Mês e ano procedimento ').count().orderBy('Mês e ano procedimento ')\n",
        "df_agrupado.show()"
      ],
      "metadata": {
        "colab": {
          "base_uri": "https://localhost:8080/"
        },
        "id": "fF-y09Kf4UWJ",
        "outputId": "594ef222-e070-454c-bd3f-8bc21b3eaa7a"
      },
      "execution_count": 74,
      "outputs": [
        {
          "output_type": "stream",
          "name": "stdout",
          "text": [
            "+-----------------------+-----+\n",
            "|Mês e ano procedimento |count|\n",
            "+-----------------------+-----+\n",
            "|                00-2022|    1|\n",
            "|                03-2022|   12|\n",
            "|                04-2022|   19|\n",
            "|                06-2022|   17|\n",
            "|                07-2022|   32|\n",
            "|                09-2022|   16|\n",
            "|                10-2022|   18|\n",
            "|                11-2022|   18|\n",
            "|                12-2022|   12|\n",
            "+-----------------------+-----+\n",
            "\n"
          ]
        }
      ]
    },
    {
      "cell_type": "code",
      "source": [
        "df.describe()"
      ],
      "metadata": {
        "colab": {
          "base_uri": "https://localhost:8080/"
        },
        "id": "tEii5E7atr0t",
        "outputId": "6eabdccd-152f-4994-805d-116f2f732911"
      },
      "execution_count": 75,
      "outputs": [
        {
          "output_type": "execute_result",
          "data": {
            "text/plain": [
              "DataFrame[summary: string, Localização: string, Setor: string, Mês e ano procedimento : string]"
            ]
          },
          "metadata": {},
          "execution_count": 75
        }
      ]
    },
    {
      "cell_type": "code",
      "source": [
        "df.write.csv(\"original/para/dataset_processado.csv\", header=True)"
      ],
      "metadata": {
        "id": "I4FNv1mcttns"
      },
      "execution_count": 76,
      "outputs": []
    },
    {
      "cell_type": "code",
      "source": [
        "spark.stop()"
      ],
      "metadata": {
        "id": "JyrJ2_dSzmOs"
      },
      "execution_count": 77,
      "outputs": []
    },
    {
      "cell_type": "code",
      "source": [],
      "metadata": {
        "id": "QxD8fDcl-EdJ"
      },
      "execution_count": 77,
      "outputs": []
    }
  ]
}